{
 "cells":[
  {
   "cell_type":"code",
   "source":[
    "import numpy as np"
   ],
   "execution_count":1,
   "outputs":[],
   "metadata":{
    "datalore":{
     "node_id":"yZ6STHXJBud8xX67yOGJ0m",
     "type":"CODE",
     "hide_input_from_viewers":true,
     "hide_output_from_viewers":true
    }
   }
  },
  {
   "cell_type":"code",
   "source":[
    "arr = np.arange(10)\n",
    "arr"
   ],
   "execution_count":2,
   "outputs":[
    {
     "data":{
      "text\/html":[
       "<pre>array([0, 1, 2, 3, 4, 5, 6, 7, 8, 9])<\/pre>"
      ]
     },
     "metadata":{},
     "output_type":"display_data"
    }
   ],
   "metadata":{
    "datalore":{
     "node_id":"tQCdbCsTZnhF5CQC1Fzhcq",
     "type":"CODE",
     "hide_input_from_viewers":true,
     "hide_output_from_viewers":true
    }
   }
  },
  {
   "cell_type":"markdown",
   "source":[
    "# Prendre la ligne 4 à 8"
   ],
   "attachments":{},
   "metadata":{
    "datalore":{
     "node_id":"mmdXhzjbxTddxY0eHf7g5R",
     "type":"MD",
     "hide_input_from_viewers":true,
     "hide_output_from_viewers":true
    }
   }
  },
  {
   "cell_type":"code",
   "source":[
    "arr[4: 8]"
   ],
   "execution_count":3,
   "outputs":[
    {
     "data":{
      "text\/html":[
       "<pre>array([4, 5, 6, 7])<\/pre>"
      ]
     },
     "metadata":{},
     "output_type":"display_data"
    }
   ],
   "metadata":{
    "datalore":{
     "node_id":"DlOdsS8UwFAcE5AS8Ncn27",
     "type":"CODE",
     "hide_input_from_viewers":true,
     "hide_output_from_viewers":true
    }
   }
  },
  {
   "cell_type":"markdown",
   "source":[
    "## À l’intérieur des crochets, spécifier : [start : stop : step]"
   ],
   "attachments":{},
   "metadata":{
    "datalore":{
     "node_id":"Ad3e2QMt2xC9kLhzDZEK3Q",
     "type":"MD",
     "hide_input_from_viewers":true,
     "hide_output_from_viewers":true
    }
   }
  },
  {
   "cell_type":"code",
   "source":[
    "arr[1: 10: 2]"
   ],
   "execution_count":4,
   "outputs":[
    {
     "data":{
      "text\/html":[
       "<pre>array([1, 3, 5, 7, 9])<\/pre>"
      ]
     },
     "metadata":{},
     "output_type":"display_data"
    }
   ],
   "metadata":{
    "datalore":{
     "node_id":"Udijy7cQN5lj4J46yrFs69",
     "type":"CODE",
     "hide_input_from_viewers":true,
     "hide_output_from_viewers":true
    }
   }
  },
  {
   "cell_type":"markdown",
   "source":[
    "# Découpage en tableau 2D"
   ],
   "attachments":{},
   "metadata":{
    "datalore":{
     "node_id":"F1v8rQVik7h3U6lGlROAXe",
     "type":"MD",
     "hide_input_from_viewers":true,
     "hide_output_from_viewers":true
    }
   }
  },
  {
   "cell_type":"code",
   "source":[
    "np.random.seed(67)\n",
    "arr1 = np.random.randint(1, 10, (3, 4))\n",
    "arr1"
   ],
   "execution_count":5,
   "outputs":[
    {
     "data":{
      "text\/html":[
       "<pre>array([[4, 6, 6, 8],\n",
       "       [4, 7, 4, 8],\n",
       "       [9, 6, 4, 7]])<\/pre>"
      ]
     },
     "metadata":{},
     "output_type":"display_data"
    }
   ],
   "metadata":{
    "datalore":{
     "node_id":"Jufy0LGH4O2L7z8YDBzSvR",
     "type":"CODE",
     "hide_input_from_viewers":true,
     "hide_output_from_viewers":true
    }
   }
  },
  {
   "cell_type":"code",
   "source":[
    "arr1[1:2]"
   ],
   "execution_count":6,
   "outputs":[
    {
     "data":{
      "text\/html":[
       "<pre>array([[4, 7, 4, 8]])<\/pre>"
      ]
     },
     "metadata":{},
     "output_type":"display_data"
    }
   ],
   "metadata":{
    "datalore":{
     "node_id":"CJSuq35uFy7StWXxwmCSI5",
     "type":"CODE",
     "hide_input_from_viewers":true,
     "hide_output_from_viewers":true
    }
   }
  },
  {
   "cell_type":"markdown",
   "source":[
    "## Les 2 premières lignes et les 2 du milieu"
   ],
   "attachments":{},
   "metadata":{
    "datalore":{
     "node_id":"44k7ypOiJeR9ud7l333A1O",
     "type":"MD",
     "hide_input_from_viewers":true,
     "hide_output_from_viewers":true
    }
   }
  },
  {
   "cell_type":"code",
   "source":[
    "arr1[0:2, 1:3]"
   ],
   "execution_count":7,
   "outputs":[
    {
     "data":{
      "text\/html":[
       "<pre>array([[6, 6],\n",
       "       [7, 4]])<\/pre>"
      ]
     },
     "metadata":{},
     "output_type":"display_data"
    }
   ],
   "metadata":{
    "datalore":{
     "node_id":"lmwU65jiiOd5Uxi1nvx0wU",
     "type":"CODE",
     "hide_input_from_viewers":true,
     "hide_output_from_viewers":true
    }
   }
  },
  {
   "cell_type":"code",
   "source":[
    "arr1[-3:, 1:-1]"
   ],
   "execution_count":8,
   "outputs":[
    {
     "data":{
      "text\/html":[
       "<pre>array([[6, 6],\n",
       "       [7, 4],\n",
       "       [6, 4]])<\/pre>"
      ]
     },
     "metadata":{},
     "output_type":"display_data"
    }
   ],
   "metadata":{
    "datalore":{
     "node_id":"qOGienU05X03IlluSawKki",
     "type":"CODE",
     "hide_input_from_viewers":true,
     "hide_output_from_viewers":true
    }
   }
  },
  {
   "cell_type":"markdown",
   "source":[
    "☝️ `[-3 :]` Toutes les lignes à partir de -3 seront récupérées.\n",
    "\n",
    "[1 : -1] utilisation à la fois l’indexation normale et l’indexation inversée. Nous commençons par le premier index jusqu’au dernier qui est -1."
   ],
   "attachments":{},
   "metadata":{
    "datalore":{
     "node_id":"QcRdyDa9yjDvS2rl0uYZvG",
     "type":"MD",
     "hide_input_from_viewers":true,
     "hide_output_from_viewers":true
    }
   }
  },
  {
   "cell_type":"markdown",
   "source":[
    "# **Découpage de tableau 3D**"
   ],
   "attachments":{},
   "metadata":{
    "datalore":{
     "node_id":"emZ2atzRdZ3wN3Wnb191Ai",
     "type":"MD",
     "hide_input_from_viewers":true,
     "hide_output_from_viewers":true
    }
   }
  },
  {
   "cell_type":"code",
   "source":[
    "arr2 = np.random.randint(1, 10, (2, 3, 4))\n",
    "arr2"
   ],
   "execution_count":9,
   "outputs":[
    {
     "data":{
      "text\/plain":[
       "array([[[5, 8, 2, 4],\n",
       "        [8, 9, 8, 3],\n",
       "        [6, 6, 4, 3]],\n",
       "\n",
       "       [[7, 7, 5, 9],\n",
       "        [4, 2, 5, 9],\n",
       "        [3, 8, 1, 8]]])"
      ]
     },
     "metadata":{},
     "output_type":"display_data"
    }
   ],
   "metadata":{
    "datalore":{
     "node_id":"2PS9Lw0HGva9Mvk0PTGHS4",
     "type":"CODE",
     "hide_input_from_viewers":true,
     "hide_output_from_viewers":true
    }
   }
  },
  {
   "cell_type":"markdown",
   "source":[
    "## _Extraire une \"matrice\" (plan 2D) complète_"
   ],
   "attachments":{},
   "metadata":{
    "datalore":{
     "node_id":"8iMuQ9x0bPir4hKl79QTTS",
     "type":"MD",
     "hide_input_from_viewers":true,
     "hide_output_from_viewers":true
    }
   }
  },
  {
   "cell_type":"code",
   "source":[
    "arr2[0, :, :]"
   ],
   "execution_count":10,
   "outputs":[
    {
     "data":{
      "text\/html":[
       "<pre>array([[5, 8, 2, 4],\n",
       "       [8, 9, 8, 3],\n",
       "       [6, 6, 4, 3]])<\/pre>"
      ]
     },
     "metadata":{},
     "output_type":"display_data"
    }
   ],
   "metadata":{
    "datalore":{
     "node_id":"GWhfH57MixQ6cvgmuSUXqe",
     "type":"CODE",
     "hide_input_from_viewers":true,
     "hide_output_from_viewers":true
    }
   }
  },
  {
   "cell_type":"markdown",
   "source":[
    "## _Extraire la ligne 2 du plan 2_"
   ],
   "attachments":{},
   "metadata":{
    "datalore":{
     "node_id":"M5gJ4M0HulTvpDc6tksPBq",
     "type":"MD",
     "hide_input_from_viewers":true,
     "hide_output_from_viewers":true
    }
   }
  },
  {
   "cell_type":"code",
   "source":[
    "arr2[1, 1, :]"
   ],
   "execution_count":11,
   "outputs":[
    {
     "data":{
      "text\/html":[
       "<pre>array([4, 2, 5, 9])<\/pre>"
      ]
     },
     "metadata":{},
     "output_type":"display_data"
    }
   ],
   "metadata":{
    "datalore":{
     "node_id":"5bbMnr7pvRpyAKzYLYaiQc",
     "type":"CODE",
     "hide_input_from_viewers":true,
     "hide_output_from_viewers":true
    }
   }
  },
  {
   "cell_type":"code",
   "source":[
    "arr2[1, 1]"
   ],
   "execution_count":12,
   "outputs":[
    {
     "data":{
      "text\/html":[
       "<pre>array([4, 2, 5, 9])<\/pre>"
      ]
     },
     "metadata":{},
     "output_type":"display_data"
    }
   ],
   "metadata":{
    "datalore":{
     "node_id":"PCGbA0ZnvXKZ9bEanOFpnF",
     "type":"CODE",
     "hide_input_from_viewers":true,
     "hide_output_from_viewers":true
    }
   }
  },
  {
   "cell_type":"markdown",
   "source":[
    "## _La troisième colonne_"
   ],
   "attachments":{},
   "metadata":{
    "datalore":{
     "node_id":"lEyiUEXqoZhbtfJSCSlbEg",
     "type":"MD",
     "hide_input_from_viewers":true,
     "hide_output_from_viewers":true
    }
   }
  },
  {
   "cell_type":"code",
   "source":[
    "arr2[1:, 1:, 2]"
   ],
   "execution_count":13,
   "outputs":[
    {
     "data":{
      "text\/html":[
       "<pre>array([[5, 1]])<\/pre>"
      ]
     },
     "metadata":{},
     "output_type":"display_data"
    }
   ],
   "metadata":{
    "datalore":{
     "node_id":"CbqauTLbNppl1RHb3NpnIa",
     "type":"CODE",
     "hide_input_from_viewers":true,
     "hide_output_from_viewers":true
    }
   }
  },
  {
   "cell_type":"markdown",
   "source":[
    "## _Extraire un sous-tableau (sous-cube)_\n",
    "\n",
    "_Sur le premier plan, extraire les deux premières lignes et trois premières colonnes_"
   ],
   "attachments":{},
   "metadata":{
    "datalore":{
     "node_id":"yBvpua6MTZpHos5lh33wxI",
     "type":"MD",
     "hide_input_from_viewers":true,
     "hide_output_from_viewers":true
    }
   }
  },
  {
   "cell_type":"code",
   "source":[
    "arr2[0, 0:2, 0:3]"
   ],
   "execution_count":14,
   "outputs":[
    {
     "data":{
      "text\/html":[
       "<pre>array([[5, 8, 2],\n",
       "       [8, 9, 8]])<\/pre>"
      ]
     },
     "metadata":{},
     "output_type":"display_data"
    }
   ],
   "metadata":{
    "datalore":{
     "node_id":"ZQ0ok9B4wd5CiJrmVN8ZCV",
     "type":"CODE",
     "hide_input_from_viewers":true,
     "hide_output_from_viewers":true
    }
   }
  },
  {
   "cell_type":"markdown",
   "source":[
    "## _Extraire la même colonne de toutes les lignes et de tous les plans_\n",
    "_Quatrième colonne dans tout le cube :_"
   ],
   "attachments":{},
   "metadata":{
    "datalore":{
     "node_id":"iruWlcdgHHXsbVfQmsw2Yr",
     "type":"MD",
     "hide_input_from_viewers":true,
     "hide_output_from_viewers":true
    }
   }
  },
  {
   "cell_type":"code",
   "source":[
    "arr2[:, :, 3]"
   ],
   "execution_count":15,
   "outputs":[
    {
     "data":{
      "text\/html":[
       "<pre>array([[4, 3, 3],\n",
       "       [9, 9, 8]])<\/pre>"
      ]
     },
     "metadata":{},
     "output_type":"display_data"
    }
   ],
   "metadata":{
    "datalore":{
     "node_id":"TqIR0tUxmm3M8Z3I8PGNNi",
     "type":"CODE",
     "hide_input_from_viewers":true,
     "hide_output_from_viewers":true
    }
   }
  },
  {
   "cell_type":"markdown",
   "source":[
    "## _Prendre un \"slice\" sur l’axe des plans (premier axe)_\n",
    "_Ne prendre que le deuxième plan_"
   ],
   "attachments":{},
   "metadata":{
    "datalore":{
     "node_id":"yz5evq95xDLMLjLnEl2Ra4",
     "type":"MD",
     "hide_input_from_viewers":true,
     "hide_output_from_viewers":true
    }
   }
  },
  {
   "cell_type":"code",
   "source":[
    "arr2[1]"
   ],
   "execution_count":16,
   "outputs":[
    {
     "data":{
      "text\/html":[
       "<pre>array([[7, 7, 5, 9],\n",
       "       [4, 2, 5, 9],\n",
       "       [3, 8, 1, 8]])<\/pre>"
      ]
     },
     "metadata":{},
     "output_type":"display_data"
    }
   ],
   "metadata":{
    "datalore":{
     "node_id":"ow06TUVlTn8X7W4ul9pY8U",
     "type":"CODE",
     "hide_input_from_viewers":true,
     "hide_output_from_viewers":true
    }
   }
  },
  {
   "cell_type":"markdown",
   "source":[
    "Résumé des syntaxes courantes pour un tableau 3D avec NumPy :\n",
    "arr2[i, :, :] : ith plan complet\n",
    "\n",
    "arr2[:, j, :] : jth ligne de chaque plan\n",
    "\n",
    "arr2[:, :, k] : kth colonne sur tous les plans et lignes\n",
    "\n",
    "arr2[a:b, c:d, e:f] : sous-cube défini par tranches sur chaque axe"
   ],
   "attachments":{},
   "metadata":{
    "datalore":{
     "node_id":"q06aZYEr0OFq3BregLaLmA",
     "type":"MD",
     "hide_input_from_viewers":true,
     "hide_output_from_viewers":true
    }
   }
  }
 ],
 "metadata":{
  "kernelspec":{
   "display_name":"Python",
   "language":"python",
   "name":"python"
  },
  "datalore":{
   "computation_mode":"JUPYTER",
   "package_manager":"pip",
   "base_environment":"default_3_11",
   "packages":[],
   "report_row_ids":[],
   "report_tabs":[],
   "version":4
  }
 },
 "nbformat":4,
 "nbformat_minor":4
}