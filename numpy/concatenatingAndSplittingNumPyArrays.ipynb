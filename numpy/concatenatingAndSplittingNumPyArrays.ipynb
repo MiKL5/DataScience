{
 "cells":[
  {
   "cell_type":"code",
   "source":[
    "import numpy as np"
   ],
   "execution_count":1,
   "outputs":[],
   "metadata":{
    "datalore":{
     "node_id":"Yq4dtICHpTwe5Yz3fpW2q8",
     "type":"CODE",
     "hide_input_from_viewers":true,
     "hide_output_from_viewers":true
    }
   }
  },
  {
   "cell_type":"markdown",
   "source":[
    "La concaténation et le fractionnement de tableaux NumPy sont deux opérations importantes et opposées sur les tableaux.\n",
    "\n",
    "La concaténation de tableaux consiste à joindre plusieurs tableaux. Horizontalement ou verticalement.\n",
    "\n",
    "Le fractionnement de tableaux consiste à diviser l'unique tableau. Les éléments du tableau sont divisés en utilisant leurs indices."
   ],
   "outputs":[
    {
     "data":{
      "application\/datalore_markdown_expressions+json":{
       "expressions":{}
      }
     },
     "metadata":{},
     "output_type":"display_data"
    }
   ],
   "attachments":{},
   "metadata":{
    "datalore":{
     "node_id":"pAdr4jZpn8RnXPSnxfNltC",
     "type":"MD",
     "hide_input_from_viewers":true,
     "hide_output_from_viewers":true
    }
   }
  },
  {
   "cell_type":"markdown",
   "source":[
    "# **Contaténation**"
   ],
   "outputs":[
    {
     "data":{
      "application\/datalore_markdown_expressions+json":{
       "expressions":{}
      }
     },
     "metadata":{},
     "output_type":"display_data"
    }
   ],
   "attachments":{},
   "metadata":{
    "datalore":{
     "node_id":"0MQHgUtu6hVXDSZUBkanL3",
     "type":"MD",
     "hide_input_from_viewers":true,
     "hide_output_from_viewers":true
    }
   }
  },
  {
   "cell_type":"code",
   "source":[
    "a1 = np.arange(1, 5)\n",
    "a2 = np.arange(5, 9)\n",
    "a1 , a2"
   ],
   "execution_count":4,
   "outputs":[
    {
     "data":{
      "text\/plain":[
       "(array([1, 2, 3, 4]), array([5, 6, 7, 8]))"
      ]
     },
     "metadata":{},
     "output_type":"display_data"
    }
   ],
   "metadata":{
    "datalore":{
     "node_id":"sK4OelF4hspMC2uL3UKRCH",
     "type":"CODE",
     "hide_input_from_viewers":true,
     "hide_output_from_viewers":true
    }
   }
  },
  {
   "cell_type":"code",
   "source":[
    "np.concatenate([a1 , a2])"
   ],
   "execution_count":5,
   "outputs":[
    {
     "data":{
      "text\/html":[
       "<pre>array([1, 2, 3, 4, 5, 6, 7, 8])<\/pre>"
      ]
     },
     "metadata":{},
     "output_type":"display_data"
    }
   ],
   "metadata":{
    "datalore":{
     "node_id":"CBLRMUH1KwTQU50bCX8tZw",
     "type":"CODE",
     "hide_input_from_viewers":true,
     "hide_output_from_viewers":true
    }
   }
  },
  {
   "cell_type":"markdown",
   "source":[
    "## _Concaténer deux tableaux 2d_"
   ],
   "outputs":[
    {
     "data":{
      "application\/datalore_markdown_expressions+json":{
       "expressions":{}
      }
     },
     "metadata":{},
     "output_type":"display_data"
    }
   ],
   "attachments":{},
   "metadata":{
    "datalore":{
     "node_id":"9qVAWyASXoacd840j6O0ib",
     "type":"MD",
     "hide_input_from_viewers":true,
     "hide_output_from_viewers":true
    }
   }
  },
  {
   "cell_type":"code",
   "source":[
    "a3 = np.arange(1, 10).reshape(3, 3)\n",
    "a4 = np.arange(10, 19).reshape(3, 3)\n",
    "a3 , a4"
   ],
   "execution_count":7,
   "outputs":[
    {
     "data":{
      "text\/plain":[
       "(array([[1, 2, 3],\n",
       "        [4, 5, 6],\n",
       "        [7, 8, 9]]),\n",
       " array([[10, 11, 12],\n",
       "        [13, 14, 15],\n",
       "        [16, 17, 18]]))"
      ]
     },
     "metadata":{},
     "output_type":"display_data"
    }
   ],
   "metadata":{
    "datalore":{
     "node_id":"tRAM9ZuxTgzlKTEnLwIjvT",
     "type":"CODE",
     "hide_input_from_viewers":true,
     "hide_output_from_viewers":true
    }
   }
  },
  {
   "cell_type":"code",
   "source":[
    "np.concatenate([a3, a4])"
   ],
   "execution_count":8,
   "outputs":[
    {
     "data":{
      "text\/html":[
       "<pre>array([[ 1,  2,  3],\n",
       "       [ 4,  5,  6],\n",
       "       [ 7,  8,  9],\n",
       "       [10, 11, 12],\n",
       "       [13, 14, 15],\n",
       "       [16, 17, 18]])<\/pre>"
      ]
     },
     "metadata":{},
     "output_type":"display_data"
    }
   ],
   "metadata":{
    "datalore":{
     "node_id":"dQJ31KduyTMa6UogU6h132",
     "type":"CODE",
     "hide_input_from_viewers":true,
     "hide_output_from_viewers":true
    }
   }
  },
  {
   "cell_type":"markdown",
   "source":[
    "## _Concaténation verticale_"
   ],
   "outputs":[
    {
     "data":{
      "application\/datalore_markdown_expressions+json":{
       "expressions":{}
      }
     },
     "metadata":{},
     "output_type":"display_data"
    }
   ],
   "attachments":{},
   "metadata":{
    "datalore":{
     "node_id":"iJBqlfhvUi5qS4OrDU4Vvj",
     "type":"MD",
     "hide_input_from_viewers":true,
     "hide_output_from_viewers":true
    }
   }
  },
  {
   "cell_type":"code",
   "source":[
    "np.concatenate([a3, a4], axis=1)"
   ],
   "execution_count":10,
   "outputs":[
    {
     "data":{
      "text\/html":[
       "<pre>array([[ 1,  2,  3, 10, 11, 12],\n",
       "       [ 4,  5,  6, 13, 14, 15],\n",
       "       [ 7,  8,  9, 16, 17, 18]])<\/pre>"
      ]
     },
     "metadata":{},
     "output_type":"display_data"
    }
   ],
   "metadata":{
    "datalore":{
     "node_id":"RONyYuZFiJX6W4czA5oMZP",
     "type":"CODE",
     "hide_input_from_viewers":true,
     "hide_output_from_viewers":true
    }
   }
  },
  {
   "cell_type":"markdown",
   "source":[
    "Jointure verticale `vstack()`.  \n",
    "Jointure horizontalement `hstack()`."
   ],
   "outputs":[
    {
     "data":{
      "application\/datalore_markdown_expressions+json":{
       "expressions":{}
      }
     },
     "metadata":{},
     "output_type":"display_data"
    }
   ],
   "attachments":{},
   "metadata":{
    "datalore":{
     "node_id":"5kCc9AFPw0Qy1Ipz4Xwbij",
     "type":"MD",
     "hide_input_from_viewers":true,
     "hide_output_from_viewers":true
    }
   }
  },
  {
   "cell_type":"code",
   "source":[
    "np.vstack([a3, a4])"
   ],
   "execution_count":12,
   "outputs":[
    {
     "data":{
      "text\/html":[
       "<pre>array([[ 1,  2,  3],\n",
       "       [ 4,  5,  6],\n",
       "       [ 7,  8,  9],\n",
       "       [10, 11, 12],\n",
       "       [13, 14, 15],\n",
       "       [16, 17, 18]])<\/pre>"
      ]
     },
     "metadata":{},
     "output_type":"display_data"
    }
   ],
   "metadata":{
    "datalore":{
     "node_id":"0i7oIgWETvybJNog6teeqL",
     "type":"CODE",
     "hide_input_from_viewers":true,
     "hide_output_from_viewers":true
    }
   }
  },
  {
   "cell_type":"code",
   "source":[
    "np.hstack([a3, a4])"
   ],
   "execution_count":13,
   "outputs":[
    {
     "data":{
      "text\/html":[
       "<pre>array([[ 1,  2,  3, 10, 11, 12],\n",
       "       [ 4,  5,  6, 13, 14, 15],\n",
       "       [ 7,  8,  9, 16, 17, 18]])<\/pre>"
      ]
     },
     "metadata":{},
     "output_type":"display_data"
    }
   ],
   "metadata":{
    "datalore":{
     "node_id":"MnkNXk8vz1Dz9OOpHv583a",
     "type":"CODE",
     "hide_input_from_viewers":true,
     "hide_output_from_viewers":true
    }
   }
  },
  {
   "cell_type":"markdown",
   "source":[
    "# **Fractionnement**"
   ],
   "outputs":[
    {
     "data":{
      "application\/datalore_markdown_expressions+json":{
       "expressions":{}
      }
     },
     "metadata":{},
     "output_type":"display_data"
    }
   ],
   "attachments":{},
   "metadata":{
    "datalore":{
     "node_id":"J7WvYzyF63AM4wbvaCHo9q",
     "type":"MD",
     "hide_input_from_viewers":true,
     "hide_output_from_viewers":true
    }
   }
  },
  {
   "cell_type":"code",
   "source":[
    "a5 = np.arange(1, 10)\n",
    "a5"
   ],
   "execution_count":15,
   "outputs":[
    {
     "data":{
      "text\/html":[
       "<pre>array([1, 2, 3, 4, 5, 6, 7, 8, 9])<\/pre>"
      ]
     },
     "metadata":{},
     "output_type":"display_data"
    }
   ],
   "metadata":{
    "datalore":{
     "node_id":"gnOb4DEVJNQ9WzQio2xNZr",
     "type":"CODE",
     "hide_input_from_viewers":true,
     "hide_output_from_viewers":true
    }
   }
  },
  {
   "cell_type":"code",
   "source":[
    "np.split(a5, [4]) # fraction à l'index 4, donc le 5"
   ],
   "execution_count":16,
   "outputs":[
    {
     "data":{
      "text\/plain":[
       "[array([1, 2, 3, 4]), array([5, 6, 7, 8, 9])]"
      ]
     },
     "metadata":{},
     "output_type":"display_data"
    }
   ],
   "metadata":{
    "datalore":{
     "node_id":"UUZgJY2EkD3RrCHrw081mB",
     "type":"CODE",
     "hide_input_from_viewers":true,
     "hide_output_from_viewers":true
    }
   }
  },
  {
   "cell_type":"code",
   "source":[
    "np.split(a5, [3, 5, 7]) # le couper en 4"
   ],
   "execution_count":17,
   "outputs":[
    {
     "data":{
      "text\/plain":[
       "[array([1, 2, 3]), array([4, 5]), array([6, 7]), array([8, 9])]"
      ]
     },
     "metadata":{},
     "output_type":"display_data"
    }
   ],
   "metadata":{
    "datalore":{
     "node_id":"wTBwQSZqNU6KpmrIySBIPY",
     "type":"CODE",
     "hide_input_from_viewers":true,
     "hide_output_from_viewers":true
    }
   }
  },
  {
   "cell_type":"markdown",
   "source":[
    "## _Fractionner un tableau 2d_"
   ],
   "outputs":[
    {
     "data":{
      "application\/datalore_markdown_expressions+json":{
       "expressions":{}
      }
     },
     "metadata":{},
     "output_type":"display_data"
    }
   ],
   "attachments":{},
   "metadata":{
    "datalore":{
     "node_id":"6zQ3fdY2mJ1EqayLLS1UrD",
     "type":"MD",
     "hide_input_from_viewers":true,
     "hide_output_from_viewers":true
    }
   }
  },
  {
   "cell_type":"code",
   "source":[
    "a6 = np.arange(1, 21).reshape(5, 4)\n",
    "a6"
   ],
   "execution_count":19,
   "outputs":[
    {
     "data":{
      "text\/html":[
       "<pre>array([[ 1,  2,  3,  4],\n",
       "       [ 5,  6,  7,  8],\n",
       "       [ 9, 10, 11, 12],\n",
       "       [13, 14, 15, 16],\n",
       "       [17, 18, 19, 20]])<\/pre>"
      ]
     },
     "metadata":{},
     "output_type":"display_data"
    }
   ],
   "metadata":{
    "datalore":{
     "node_id":"4d8nMm85NBbaIPNJPvbSkr",
     "type":"CODE",
     "hide_input_from_viewers":true,
     "hide_output_from_viewers":true
    }
   }
  },
  {
   "cell_type":"code",
   "source":[
    "np.split(a6, [2])"
   ],
   "execution_count":20,
   "outputs":[
    {
     "data":{
      "text\/plain":[
       "[array([[1, 2, 3, 4],\n",
       "        [5, 6, 7, 8]]),\n",
       " array([[ 9, 10, 11, 12],\n",
       "        [13, 14, 15, 16],\n",
       "        [17, 18, 19, 20]])]"
      ]
     },
     "metadata":{},
     "output_type":"display_data"
    }
   ],
   "metadata":{
    "datalore":{
     "node_id":"N3q8r34MLkrqbF2GLsQyLu",
     "type":"CODE",
     "hide_input_from_viewers":true,
     "hide_output_from_viewers":true
    }
   }
  },
  {
   "cell_type":"code",
   "source":[
    "np.split(a6, [2], axis=1)"
   ],
   "execution_count":21,
   "outputs":[
    {
     "data":{
      "text\/plain":[
       "[array([[ 1,  2],\n",
       "        [ 5,  6],\n",
       "        [ 9, 10],\n",
       "        [13, 14],\n",
       "        [17, 18]]),\n",
       " array([[ 3,  4],\n",
       "        [ 7,  8],\n",
       "        [11, 12],\n",
       "        [15, 16],\n",
       "        [19, 20]])]"
      ]
     },
     "metadata":{},
     "output_type":"display_data"
    }
   ],
   "metadata":{
    "datalore":{
     "node_id":"EchHtIJ60xjPrpLGKovDiq",
     "type":"CODE",
     "hide_input_from_viewers":true,
     "hide_output_from_viewers":true
    }
   }
  },
  {
   "cell_type":"code",
   "source":[
    "np.vsplit(a6, [3])"
   ],
   "execution_count":22,
   "outputs":[
    {
     "data":{
      "text\/plain":[
       "[array([[ 1,  2,  3,  4],\n",
       "        [ 5,  6,  7,  8],\n",
       "        [ 9, 10, 11, 12]]),\n",
       " array([[13, 14, 15, 16],\n",
       "        [17, 18, 19, 20]])]"
      ]
     },
     "metadata":{},
     "output_type":"display_data"
    }
   ],
   "metadata":{
    "datalore":{
     "node_id":"hrYbCeTFz8R30qkv33OPic",
     "type":"CODE",
     "hide_input_from_viewers":true,
     "hide_output_from_viewers":true
    }
   }
  },
  {
   "cell_type":"code",
   "source":[
    "np.hsplit(a6, [2])"
   ],
   "execution_count":23,
   "outputs":[
    {
     "data":{
      "text\/plain":[
       "[array([[ 1,  2],\n",
       "        [ 5,  6],\n",
       "        [ 9, 10],\n",
       "        [13, 14],\n",
       "        [17, 18]]),\n",
       " array([[ 3,  4],\n",
       "        [ 7,  8],\n",
       "        [11, 12],\n",
       "        [15, 16],\n",
       "        [19, 20]])]"
      ]
     },
     "metadata":{},
     "output_type":"display_data"
    }
   ],
   "metadata":{
    "datalore":{
     "node_id":"kUAUFq5ihLCaLuVbIhHjfZ",
     "type":"CODE",
     "hide_input_from_viewers":true,
     "hide_output_from_viewers":true
    }
   }
  },
  {
   "cell_type":"code",
   "source":[
    "np.hsplit(a6, [2])"
   ],
   "execution_count":24,
   "outputs":[
    {
     "data":{
      "text\/plain":[
       "[array([[ 1,  2],\n",
       "        [ 5,  6],\n",
       "        [ 9, 10],\n",
       "        [13, 14],\n",
       "        [17, 18]]),\n",
       " array([[ 3,  4],\n",
       "        [ 7,  8],\n",
       "        [11, 12],\n",
       "        [15, 16],\n",
       "        [19, 20]])]"
      ]
     },
     "metadata":{},
     "output_type":"display_data"
    }
   ],
   "metadata":{
    "datalore":{
     "node_id":"dzvTBrrOfXtKuig8BSafQH",
     "type":"CODE",
     "hide_input_from_viewers":true,
     "hide_output_from_viewers":true
    }
   }
  },
  {
   "cell_type":"markdown",
   "source":[
    "## Fractionner et diviser un tableau en forme (6,5)"
   ],
   "outputs":[
    {
     "data":{
      "application\/datalore_markdown_expressions+json":{
       "expressions":{}
      }
     },
     "metadata":{},
     "output_type":"display_data"
    }
   ],
   "attachments":{},
   "metadata":{
    "datalore":{
     "node_id":"ljcyfoLOVjtUHwiYs9Rsds",
     "type":"MD",
     "hide_input_from_viewers":true,
     "hide_output_from_viewers":true
    }
   }
  },
  {
   "cell_type":"code",
   "source":[
    "a = np.arange(30).reshape(6, 5)\n",
    "a"
   ],
   "execution_count":26,
   "outputs":[
    {
     "data":{
      "text\/html":[
       "<pre>array([[ 0,  1,  2,  3,  4],\n",
       "       [ 5,  6,  7,  8,  9],\n",
       "       [10, 11, 12, 13, 14],\n",
       "       [15, 16, 17, 18, 19],\n",
       "       [20, 21, 22, 23, 24],\n",
       "       [25, 26, 27, 28, 29]])<\/pre>"
      ]
     },
     "metadata":{},
     "output_type":"display_data"
    }
   ],
   "metadata":{
    "datalore":{
     "node_id":"4ovnlOoGhMP9uYWoR8hhke",
     "type":"CODE",
     "hide_input_from_viewers":true,
     "hide_output_from_viewers":true
    }
   }
  },
  {
   "cell_type":"markdown",
   "source":[
    "### _Fractionnement vertical `vsplit()`_"
   ],
   "outputs":[
    {
     "data":{
      "application\/datalore_markdown_expressions+json":{
       "expressions":{}
      }
     },
     "metadata":{},
     "output_type":"display_data"
    }
   ],
   "attachments":{},
   "metadata":{
    "datalore":{
     "node_id":"yRxkhcgasN6F0W2cvh5mAY",
     "type":"MD",
     "hide_input_from_viewers":true,
     "hide_output_from_viewers":true
    }
   }
  },
  {
   "cell_type":"code",
   "source":[
    "vsplit_arrays = np.vsplit(a, 2)\n",
    "for part in vsplit_arrays:\n",
    "    print(part)"
   ],
   "execution_count":28,
   "outputs":[
    {
     "name":"stdout",
     "text":[
      "[[ 0  1  2  3  4]\n",
      " [ 5  6  7  8  9]\n",
      " [10 11 12 13 14]]\n",
      "[[15 16 17 18 19]\n",
      " [20 21 22 23 24]\n",
      " [25 26 27 28 29]]\n"
     ],
     "output_type":"stream"
    }
   ],
   "metadata":{
    "datalore":{
     "node_id":"bBmOiNv66toY8W3N4gxtjX",
     "type":"CODE",
     "hide_input_from_viewers":true,
     "hide_output_from_viewers":true
    }
   }
  },
  {
   "cell_type":"markdown",
   "source":[
    "### _Fractionnement horizontal `hsplit()`_"
   ],
   "outputs":[
    {
     "data":{
      "application\/datalore_markdown_expressions+json":{
       "expressions":{}
      }
     },
     "metadata":{},
     "output_type":"display_data"
    }
   ],
   "attachments":{},
   "metadata":{
    "datalore":{
     "node_id":"sinitgJNF4Cg72b3WXteLh",
     "type":"MD",
     "hide_input_from_viewers":true,
     "hide_output_from_viewers":true
    }
   }
  },
  {
   "cell_type":"code",
   "source":[
    "hsplit_arrays = np.hsplit(a, 5)\n",
    "for part in hsplit_arrays:\n",
    "    print(part)"
   ],
   "execution_count":30,
   "outputs":[
    {
     "name":"stdout",
     "text":[
      "[[ 0]\n",
      " [ 5]\n",
      " [10]\n",
      " [15]\n",
      " [20]\n",
      " [25]]\n",
      "[[ 1]\n",
      " [ 6]\n",
      " [11]\n",
      " [16]\n",
      " [21]\n",
      " [26]]\n",
      "[[ 2]\n",
      " [ 7]\n",
      " [12]\n",
      " [17]\n",
      " [22]\n",
      " [27]]\n",
      "[[ 3]\n",
      " [ 8]\n",
      " [13]\n",
      " [18]\n",
      " [23]\n",
      " [28]]\n",
      "[[ 4]\n",
      " [ 9]\n",
      " [14]\n",
      " [19]\n",
      " [24]\n",
      " [29]]\n"
     ],
     "output_type":"stream"
    }
   ],
   "metadata":{
    "datalore":{
     "node_id":"DqA3otoMcvGi3Rj5p0yKyZ",
     "type":"CODE",
     "hide_input_from_viewers":true,
     "hide_output_from_viewers":true
    }
   }
  }
 ],
 "metadata":{
  "kernelspec":{
   "display_name":"Python",
   "language":"python",
   "name":"python"
  },
  "datalore":{
   "computation_mode":"REACTIVE",
   "package_manager":"pip",
   "base_environment":"default_3_11",
   "packages":[],
   "report_row_ids":[],
   "report_tabs":[],
   "version":4
  }
 },
 "nbformat":4,
 "nbformat_minor":4
}