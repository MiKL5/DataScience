{
 "cells":[
  {
   "cell_type":"code",
   "source":[
    "import numpy as np"
   ],
   "execution_count":1,
   "outputs":[],
   "metadata":{
    "datalore":{
     "node_id":"HOJf6KM10UYLvxTR9yks7j",
     "type":"CODE",
     "hide_input_from_viewers":true,
     "hide_output_from_viewers":true
    }
   }
  },
  {
   "cell_type":"markdown",
   "source":[
    "dtype · · · · · · ▶ Type de données  \n",
    "ndim · · · · · · · ▶ Nombre de dimensions  \n",
    "shape · · · · · · ▶ Forme du tableau (qui est simplement le nombre de lignes et de colonnes en fonction des dimensions)  \n",
    "size · · · · · · · ·▶ Nombre d’éléments présents dans le tableau  \n",
    "itemsize · · · · ▶ Consommation de mémoire d’un seul élément du tableau  \n",
    "nbytes · · · · · ▶ Consommation totale de mémoire d’un tableau entier  "
   ],
   "attachments":{},
   "metadata":{
    "datalore":{
     "node_id":"Pel5eNsmcPST0t6hofuZ2b",
     "type":"MD",
     "hide_input_from_viewers":true,
     "hide_output_from_viewers":true
    }
   }
  },
  {
   "cell_type":"markdown",
   "source":[
    "## L'abréviation de data type _`dtype`_\n",
    "Est un objet décrivant le type de données des éléments d'un tableau (ndarray).  \n",
    "Il peut contenir des types personnalisés."
   ],
   "attachments":{},
   "metadata":{
    "datalore":{
     "node_id":"eBTDLOHpzjmHI5wJfwmQyl",
     "type":"MD",
     "hide_input_from_viewers":true,
     "hide_output_from_viewers":true
    }
   }
  },
  {
   "cell_type":"code",
   "source":[
    "arr1 = np.array([1, 2, 3, 4])\n",
    "arr2 = np.array(['a', 'b', 'c', 'd'])\n",
    "arr3 = np.array([1.1, 2.2, 3.3, 4.4])\n",
    "arr4 = np.array([True, False, True, False])\n",
    "arr1.dtype, arr2.dtype, arr3.dtype, arr4.dtype"
   ],
   "execution_count":2,
   "outputs":[
    {
     "data":{
      "text\/plain":[
       "(dtype('int64'), dtype('<U1'), dtype('float64'), dtype('bool'))"
      ]
     },
     "metadata":{},
     "output_type":"display_data"
    }
   ],
   "metadata":{
    "datalore":{
     "node_id":"BDjteQwk21B0A9tijTXQKA",
     "type":"CODE",
     "hide_input_from_viewers":true,
     "hide_output_from_viewers":true
    }
   }
  },
  {
   "cell_type":"markdown",
   "source":[
    "Type NumPy|Description|Exemple\n",
    "---|---|--:\n",
    "int8, int16, int32, int64|Entiers signés (8, 16, 32, 64 bits)|-123, 42\n",
    "uint8, uint16, uint32, uint64|Entiers non signés (0 à 2ⁿ-1)|255, 1000\n",
    "float16, float32, float64|Nombres à virgule flottante,3.14|-0.001\n",
    "bool|Booléen (True ou False)|True, False\n",
    "complex64, complex128|Nombres complexes (partie réelle + imaginaire)|1+2j\n",
    "object|Type générique (pour mélanger des types)|\"texte\", [1, \"a\"]"
   ],
   "attachments":{},
   "metadata":{
    "datalore":{
     "node_id":"EBU911LbPJtoA0yUxvrQ2X",
     "type":"MD",
     "hide_input_from_viewers":true,
     "hide_output_from_viewers":true
    }
   }
  },
  {
   "cell_type":"markdown",
   "source":[
    "## L'attribut (ndarray) _`ndim`_\n",
    "Indique le nombre de dimensions (ou axes) du tableau.  \n",
    "Cette propriété est fondamentale pour comprendre la structure des données.  \n",
    "Surtout avec des tableaux multidimensionnels."
   ],
   "attachments":{},
   "metadata":{
    "datalore":{
     "node_id":"WONSwWtiNXbiXSuOdKKtdC",
     "type":"MD",
     "hide_input_from_viewers":true,
     "hide_output_from_viewers":true
    }
   }
  },
  {
   "cell_type":"code",
   "source":[
    "arr5 = np.array([1, 2, 3, 4])\n",
    "arr6 = np.array([[1, 2, 3], [4, 5, 6]])\n",
    "arr7 = np.array([[[1, 2, 3], [4, 5, 6]], [[7, 8, 9], [10, 11, 12]]])\n",
    "arr6.ndim, arr6.ndim, arr7.ndim"
   ],
   "execution_count":3,
   "outputs":[
    {
     "data":{
      "text\/plain":[
       "(2, 2, 3)"
      ]
     },
     "metadata":{},
     "output_type":"display_data"
    }
   ],
   "metadata":{
    "datalore":{
     "node_id":"sp0uFHowfzpL0NClRjjLn7",
     "type":"CODE",
     "hide_input_from_viewers":true,
     "hide_output_from_viewers":true
    }
   }
  },
  {
   "cell_type":"markdown",
   "source":[
    "☝️ Le premier a une dimension, ... le dernier en a trois."
   ],
   "attachments":{},
   "metadata":{
    "datalore":{
     "node_id":"rbUM1OyeyPmGAWRJMJyUig",
     "type":"MD",
     "hide_input_from_viewers":true,
     "hide_output_from_viewers":true
    }
   }
  },
  {
   "cell_type":"markdown",
   "source":[
    "## L'attribut de forme _`shape`_\n",
    "Renvoie un tuple décrivant la taille de chaque dimension du tableau.  \n",
    "C'est l'un des concepts les plus importants pour comprendre et manipuler les données multidimensionnelles."
   ],
   "attachments":{},
   "metadata":{
    "datalore":{
     "node_id":"oijFn4aHFkGrUsS00E6tnl",
     "type":"MD",
     "hide_input_from_viewers":true,
     "hide_output_from_viewers":true
    }
   }
  },
  {
   "cell_type":"code",
   "source":[
    "arr5.shape, arr6.shape, arr7.shape"
   ],
   "execution_count":4,
   "outputs":[
    {
     "data":{
      "text\/plain":[
       "((4,), (2, 3), (2, 2, 3))"
      ]
     },
     "metadata":{},
     "output_type":"display_data"
    }
   ],
   "metadata":{
    "datalore":{
     "node_id":"g3poTdQLOLb6fMtkWVXifB",
     "type":"CODE",
     "hide_input_from_viewers":true,
     "hide_output_from_viewers":true
    }
   }
  },
  {
   "cell_type":"markdown",
   "source":[
    "☝️ Le tableau 5, a quatre éléments.  \n",
    "Le tableau 6, a deux tableaux de trois lignes.  \n",
    "Le dernier, a deux tableaux de deux tableau, contenants trois lignes."
   ],
   "attachments":{},
   "metadata":{
    "datalore":{
     "node_id":"TaVLkXRkC2TpSwJ9POJbQZ",
     "type":"MD",
     "hide_input_from_viewers":true,
     "hide_output_from_viewers":true
    }
   }
  },
  {
   "cell_type":"markdown",
   "source":[
    "## L'attribut _`size`_"
   ],
   "attachments":{},
   "metadata":{
    "datalore":{
     "node_id":"0qi66mj81MNer3KgkzMpwI",
     "type":"MD",
     "hide_input_from_viewers":true,
     "hide_output_from_viewers":true
    }
   }
  },
  {
   "cell_type":"code",
   "source":[
    "arr5.size, arr6.size, arr7.size"
   ],
   "execution_count":5,
   "outputs":[
    {
     "data":{
      "text\/plain":[
       "(4, 6, 12)"
      ]
     },
     "metadata":{},
     "output_type":"display_data"
    }
   ],
   "metadata":{
    "datalore":{
     "node_id":"EDUfkfHO7UsFP6pUBErqKe",
     "type":"CODE",
     "hide_input_from_viewers":true,
     "hide_output_from_viewers":true
    }
   }
  },
  {
   "cell_type":"markdown",
   "source":[
    "Retourne le nombre d’éléments présents dans toutes les dimensions du tableau.  \n",
    "Pour une DataFrame Pandas, _`.shape`_ est plutôt utilise pour obtenir le nombre de lignes et de colonnes.  \n",
    "`.size` donne le nombre total de cellules, soit lignes × colonnes."
   ],
   "attachments":{},
   "metadata":{
    "datalore":{
     "node_id":"suzAaH0eFHIeDHQ2FEYjQr",
     "type":"MD",
     "hide_input_from_viewers":true,
     "hide_output_from_viewers":true
    }
   }
  },
  {
   "cell_type":"markdown",
   "source":[
    "☝️ Ils ont de quatre à 12 éléments."
   ],
   "attachments":{},
   "metadata":{
    "datalore":{
     "node_id":"Gv6pixmNudY9Xhx4ho7eQq",
     "type":"MD",
     "hide_input_from_viewers":true,
     "hide_output_from_viewers":true
    }
   }
  },
  {
   "cell_type":"markdown",
   "source":[
    "## L'attribut _`itemsize`_"
   ],
   "attachments":{},
   "metadata":{
    "datalore":{
     "node_id":"4eoTqbLcY1U7ihDo0cPGH7",
     "type":"MD",
     "hide_input_from_viewers":true,
     "hide_output_from_viewers":true
    }
   }
  },
  {
   "cell_type":"code",
   "source":[
    "arr5.itemsize, arr6.itemsize, arr7.itemsize"
   ],
   "execution_count":6,
   "outputs":[
    {
     "data":{
      "text\/plain":[
       "(8, 8, 8)"
      ]
     },
     "metadata":{},
     "output_type":"display_data"
    }
   ],
   "metadata":{
    "datalore":{
     "node_id":"xAvsV3wk7I29xrQ2Qi7Wmt",
     "type":"CODE",
     "hide_input_from_viewers":true,
     "hide_output_from_viewers":true
    }
   }
  },
  {
   "cell_type":"code",
   "source":[
    "arr5 = np.array([1, 2, 3, 4],           dtype='int16')\n",
    "arr6 = np.array([[1, 2, 3], [4, 5, 6]], dtype='int32')\n",
    "\n",
    "arr5.itemsize, arr6.itemsize, arr7.itemsize"
   ],
   "execution_count":7,
   "outputs":[
    {
     "data":{
      "text\/plain":[
       "(2, 4, 8)"
      ]
     },
     "metadata":{},
     "output_type":"display_data"
    }
   ],
   "metadata":{
    "datalore":{
     "node_id":"gGPuMF18fglPeCLxSLM0Bq",
     "type":"CODE",
     "hide_input_from_viewers":true,
     "hide_output_from_viewers":true
    }
   }
  },
  {
   "cell_type":"markdown",
   "source":[
    "Il indique la taille, en octets, de chaque élément d’un tableau (array) ou d’un index dans NumPy ou Pandas."
   ],
   "attachments":{},
   "metadata":{
    "datalore":{
     "node_id":"ElSHFRs6b5IumwVAlhT8Sk",
     "type":"MD",
     "hide_input_from_viewers":true,
     "hide_output_from_viewers":true
    }
   }
  },
  {
   "cell_type":"markdown",
   "source":[
    "## L'attribut _`nbytes`_"
   ],
   "attachments":{},
   "metadata":{
    "datalore":{
     "node_id":"E8Zt90IFApcntR6y01jcHW",
     "type":"MD",
     "hide_input_from_viewers":true,
     "hide_output_from_viewers":true
    }
   }
  },
  {
   "cell_type":"code",
   "source":[
    "arr5.nbytes, arr6.nbytes, arr7.nbytes"
   ],
   "execution_count":8,
   "outputs":[
    {
     "data":{
      "text\/plain":[
       "(8, 24, 96)"
      ]
     },
     "metadata":{},
     "output_type":"display_data"
    }
   ],
   "metadata":{
    "datalore":{
     "node_id":"WtFDKeuPOGo1SrzacBwiGv",
     "type":"CODE",
     "hide_input_from_viewers":true,
     "hide_output_from_viewers":true
    }
   }
  },
  {
   "cell_type":"markdown",
   "source":[
    "Cet attribut indique la quantité totale de mémoire (en octets) consommée par tous les éléments d’un tableau (NumPy) ou d’un objet Index (Pandas)."
   ],
   "attachments":{},
   "metadata":{
    "datalore":{
     "node_id":"UwlFs5pmnQkyQRyIK5387J",
     "type":"MD",
     "hide_input_from_viewers":true,
     "hide_output_from_viewers":true
    }
   }
  }
 ],
 "metadata":{
  "kernelspec":{
   "display_name":"Python",
   "language":"python",
   "name":"python"
  },
  "datalore":{
   "computation_mode":"JUPYTER",
   "package_manager":"pip",
   "base_environment":"default_3_11",
   "packages":[],
   "report_row_ids":[],
   "report_tabs":[],
   "version":4
  }
 },
 "nbformat":4,
 "nbformat_minor":4
}