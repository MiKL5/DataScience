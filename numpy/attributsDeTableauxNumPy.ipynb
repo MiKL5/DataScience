{
 "cells":[
  {
   "cell_type":"code",
   "source":[
    "import numpy as np"
   ],
   "execution_count":1,
   "outputs":[],
   "metadata":{
    "datalore":{
     "node_id":"HOJf6KM10UYLvxTR9yks7j",
     "type":"CODE",
     "hide_input_from_viewers":true,
     "hide_output_from_viewers":true
    }
   }
  },
  {
   "cell_type":"markdown",
   "source":[
    "dtype · · · · · · ▶ Type de données  \n",
    "ndim · · · · · · · ▶ Nombre de dimensions  \n",
    "shape · · · · · · ▶ Forme du tableau (qui est simplement le nombre de lignes et de colonnes en fonction des dimensions)  \n",
    "size · · · · · · · ·▶ Nombre d’éléments présents dans le tableau  \n",
    "itemsize · · · · ▶ Consommation de mémoire d’un seul élément du tableau  \n",
    "nbytes · · · · · ▶ Consommation totale de mémoire d’un tableau entier  "
   ],
   "attachments":{},
   "metadata":{
    "datalore":{
     "node_id":"Pel5eNsmcPST0t6hofuZ2b",
     "type":"MD",
     "hide_input_from_viewers":true,
     "hide_output_from_viewers":true
    }
   }
  },
  {
   "cell_type":"markdown",
   "source":[
    "## L'abréviation de data type _`dtype`_  \n",
    "Est un objet décrivant le type de données des éléments d'un tableau (ndarray).  \n",
    "Il peut contenir des types personnalisés."
   ],
   "attachments":{},
   "metadata":{
    "datalore":{
     "node_id":"eBTDLOHpzjmHI5wJfwmQyl",
     "type":"MD",
     "hide_input_from_viewers":true,
     "hide_output_from_viewers":true
    }
   }
  },
  {
   "cell_type":"code",
   "source":[
    "arr1 = np.array([1, 2, 3, 4])\n",
    "arr2 = np.array(['a', 'b', 'c', 'd'])\n",
    "arr3 = np.array([1.1, 2.2, 3.3, 4.4])\n",
    "arr4 = np.array([True, False, True, False])\n",
    "arr1.dtype, arr2.dtype, arr3.dtype, arr4.dtype"
   ],
   "execution_count":2,
   "outputs":[
    {
     "data":{
      "text\/plain":[
       "(dtype('int64'), dtype('<U1'), dtype('float64'), dtype('bool'))"
      ]
     },
     "metadata":{},
     "output_type":"display_data"
    }
   ],
   "metadata":{
    "datalore":{
     "node_id":"BDjteQwk21B0A9tijTXQKA",
     "type":"CODE",
     "hide_input_from_viewers":true,
     "hide_output_from_viewers":true
    }
   }
  },
  {
   "cell_type":"markdown",
   "source":[
    "Type NumPy|Description|Exemple\n",
    "---|---|--:\n",
    "int8, int16, int32, int64|Entiers signés (8, 16, 32, 64 bits)|-123, 42\n",
    "uint8, uint16, uint32, uint64|Entiers non signés (0 à 2ⁿ-1)|255, 1000\n",
    "float16, float32, float64|Nombres à virgule flottante,3.14|-0.001\n",
    "bool|Booléen (True ou False)|True, False\n",
    "complex64, complex128|Nombres complexes (partie réelle + imaginaire)|1+2j\n",
    "object|Type générique (pour mélanger des types)|\"texte\", [1, \"a\"]"
   ],
   "attachments":{},
   "metadata":{
    "datalore":{
     "node_id":"EBU911LbPJtoA0yUxvrQ2X",
     "type":"MD",
     "hide_input_from_viewers":true,
     "hide_output_from_viewers":true
    }
   }
  }
 ],
 "metadata":{
  "kernelspec":{
   "display_name":"Python",
   "language":"python",
   "name":"python"
  },
  "datalore":{
   "computation_mode":"JUPYTER",
   "package_manager":"pip",
   "base_environment":"default_3_11",
   "packages":[],
   "report_row_ids":[],
   "report_tabs":[],
   "version":4
  }
 },
 "nbformat":4,
 "nbformat_minor":4
}