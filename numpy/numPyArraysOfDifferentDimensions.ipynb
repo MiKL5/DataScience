{
 "cells":[
  {
   "cell_type":"code",
   "source":[
    "import numpy as np"
   ],
   "execution_count":1,
   "outputs":[],
   "metadata":{
    "datalore":{
     "node_id":"BtkAzfDMidUyNnNhRW0FnE",
     "type":"CODE",
     "hide_input_from_viewers":true,
     "hide_output_from_viewers":true
    }
   }
  },
  {
   "cell_type":"markdown",
   "source":[
    "Chaque dimension a un terme. Le scalaire, le vecteur, la matrice et le tenseur.\n",
    "* 0D – Scalar\n",
    "* 1D – Vector\n",
    "* 2D – Matrix\n",
    "* 3D ou plus – Tensor"
   ],
   "attachments":{},
   "metadata":{
    "datalore":{
     "node_id":"1ufYYPJ6ShOGuR1pBi415a",
     "type":"MD",
     "hide_input_from_viewers":true,
     "hide_output_from_viewers":true
    }
   }
  },
  {
   "cell_type":"code",
   "source":[
    "# Le scalarie (aucune dimension)\n",
    "d0 = np.array(6)\n",
    "d0, d0.ndim"
   ],
   "execution_count":2,
   "outputs":[
    {
     "data":{
      "text\/plain":[
       "(array(6), 0)"
      ]
     },
     "metadata":{},
     "output_type":"display_data"
    }
   ],
   "metadata":{
    "datalore":{
     "node_id":"OzX356QNoguNsjeBe7KAFa",
     "type":"CODE",
     "hide_input_from_viewers":true,
     "hide_output_from_viewers":true
    }
   }
  },
  {
   "cell_type":"markdown",
   "source":[
    "☝️ dimension 0 ; c'est un scalaire"
   ],
   "attachments":{},
   "metadata":{
    "datalore":{
     "node_id":"1NvlvsgKUtjGRbbQ6VPc3g",
     "type":"MD",
     "hide_input_from_viewers":true,
     "hide_output_from_viewers":true
    }
   }
  },
  {
   "cell_type":"code",
   "source":[
    "# Le vecteur (une dimension)\n",
    "d1 = np.array([1, 2, 3, 4])\n",
    "d1, d1.ndim"
   ],
   "execution_count":3,
   "outputs":[
    {
     "data":{
      "text\/plain":[
       "(array([1, 2, 3, 4]), 1)"
      ]
     },
     "metadata":{},
     "output_type":"display_data"
    }
   ],
   "metadata":{
    "datalore":{
     "node_id":"yIBGWAZ8Tcw5uXphbfnZc7",
     "type":"CODE",
     "hide_input_from_viewers":true,
     "hide_output_from_viewers":true
    }
   }
  },
  {
   "cell_type":"markdown",
   "source":[
    "☝️ Une dimension ; c'est un vecteur  \n",
    "   C'est comme une colonne sans ligne"
   ],
   "attachments":{},
   "metadata":{
    "datalore":{
     "node_id":"yLYlvjAwVTa8nQxd7ghiGL",
     "type":"MD",
     "hide_input_from_viewers":true,
     "hide_output_from_viewers":true
    }
   }
  },
  {
   "cell_type":"code",
   "source":[
    "# La matrice (en 2D)\n",
    "d2 = np.array([[1, 2, 3, 4],\n",
    "               [5, 6, 7, 8]])\n",
    "d2, d2.ndim"
   ],
   "execution_count":4,
   "outputs":[
    {
     "data":{
      "text\/plain":[
       "(array([[1, 2, 3, 4],\n",
       "        [5, 6, 7, 8]]),\n",
       " 2)"
      ]
     },
     "metadata":{},
     "output_type":"display_data"
    }
   ],
   "metadata":{
    "datalore":{
     "node_id":"eKtoIJx1ypaZWih2dVnE6a",
     "type":"CODE",
     "hide_input_from_viewers":true,
     "hide_output_from_viewers":true
    }
   }
  },
  {
   "cell_type":"markdown",
   "source":[
    "☝️ C'est une matrice ; 2  \n",
    "Il y a des lignes eet colonnes  \n",
    "Les features ont plusieurs colonnes et lignes comme une matrice  \n",
    "Les labels n’ont qu’une seule colonne comme un vecteur"
   ],
   "attachments":{},
   "metadata":{
    "datalore":{
     "node_id":"JhNzmcjzHkD9JkPM8GCt7d",
     "type":"MD",
     "hide_input_from_viewers":true,
     "hide_output_from_viewers":true
    }
   }
  },
  {
   "cell_type":"markdown",
   "source":[
    "Les tenseurs"
   ],
   "attachments":{},
   "metadata":{
    "datalore":{
     "node_id":"9gBkJAl2ibcKlSBE1J9bV0",
     "type":"MD",
     "hide_input_from_viewers":true,
     "hide_output_from_viewers":true
    }
   }
  },
  {
   "cell_type":"code",
   "source":[
    "# Le tenseur en 3D\n",
    "d3 = np.array([[[1, 2, 3],\n",
    "                [4, 5, 6]],\n",
    "               [[7, 8, 9],\n",
    "                [10, 11, 12]]])\n",
    "d3, d3.ndim"
   ],
   "execution_count":5,
   "outputs":[
    {
     "data":{
      "text\/plain":[
       "(array([[[ 1,  2,  3],\n",
       "         [ 4,  5,  6]],\n",
       " \n",
       "        [[ 7,  8,  9],\n",
       "         [10, 11, 12]]]),\n",
       " 3)"
      ]
     },
     "metadata":{},
     "output_type":"display_data"
    }
   ],
   "metadata":{
    "datalore":{
     "node_id":"soZTwgDtabOZngjC3wKGHi",
     "type":"CODE",
     "hide_input_from_viewers":true,
     "hide_output_from_viewers":true
    }
   }
  },
  {
   "cell_type":"code",
   "source":[
    "# Les tenseurs en 4D\n",
    "d4 = np.array([[[[1, 2], [3, 4]], [[5, 6], [7, 8]]],\n",
    "               [[[9, 10], [11, 12]], [[13, 14], [15, 16]]]])\n",
    "d4, d4.ndim"
   ],
   "execution_count":6,
   "outputs":[
    {
     "data":{
      "text\/plain":[
       "(array([[[[ 1,  2],\n",
       "          [ 3,  4]],\n",
       " \n",
       "         [[ 5,  6],\n",
       "          [ 7,  8]]],\n",
       " \n",
       " \n",
       "        [[[ 9, 10],\n",
       "          [11, 12]],\n",
       " \n",
       "         [[13, 14],\n",
       "          [15, 16]]]]),\n",
       " 4)"
      ]
     },
     "metadata":{},
     "output_type":"display_data"
    }
   ],
   "metadata":{
    "datalore":{
     "node_id":"k2SBHI5rxQ4VIeZsWgf4AK",
     "type":"CODE",
     "hide_input_from_viewers":true,
     "hide_output_from_viewers":true
    }
   }
  },
  {
   "cell_type":"markdown",
   "source":[
    "## Les types de données et leurs dimensions\n",
    "* Tableaux · · · · · · · · · · · · · · · · · · · · · · ▶ matrices 2D\n",
    "* Séries temporelles ou séquences · · ▶ tenseurs 3D\n",
    "* Images · · · · · · · · · · · · · · · · · · · · · · · ·▶ tenseurs 4D\n",
    "* Vidéogrammes · · · · · · · · · · · · · · · · · ▶ tenseurs 5D"
   ],
   "attachments":{},
   "metadata":{
    "datalore":{
     "node_id":"k69BGnEwDdVrWSrZx9kE8e",
     "type":"MD",
     "hide_input_from_viewers":true,
     "hide_output_from_viewers":true
    }
   }
  }
 ],
 "metadata":{
  "kernelspec":{
   "display_name":"Python",
   "language":"python",
   "name":"python"
  },
  "datalore":{
   "computation_mode":"JUPYTER",
   "package_manager":"pip",
   "base_environment":"default_3_11",
   "packages":[],
   "report_row_ids":[],
   "report_tabs":[],
   "version":4
  }
 },
 "nbformat":4,
 "nbformat_minor":4
}